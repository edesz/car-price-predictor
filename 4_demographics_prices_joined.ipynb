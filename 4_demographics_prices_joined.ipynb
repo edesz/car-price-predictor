{
 "cells": [
  {
   "cell_type": "markdown",
   "metadata": {},
   "source": [
    "# [Retrieve demographic data](#retrieve-demographic-data)"
   ]
  },
  {
   "cell_type": "code",
   "execution_count": null,
   "metadata": {},
   "outputs": [],
   "source": [
    "from pathlib import Path\n",
    "\n",
    "import numpy as np\n",
    "import pandas as pd\n",
    "from uszipcode import SearchEngine"
   ]
  },
  {
   "cell_type": "markdown",
   "metadata": {},
   "source": [
    "<a id=\"toc\"></a>\n",
    "\n",
    "## [Table of Contents](#table-of-contents)\n",
    "0. [About](#load-data)\n",
    "1. [User Inputs](#user-inputs)\n",
    "2. [Load Prices](#load-prices)\n",
    "3. [Get demographic data](#get-demographic-data)\n",
    "4. [Merge](#merge)\n",
    "5. [Export merged data](#export-merged-data)"
   ]
  },
  {
   "cell_type": "markdown",
   "metadata": {},
   "source": [
    "<a id=\"about\"></a>\n",
    "\n",
    "## 0. [About](#about)"
   ]
  },
  {
   "cell_type": "markdown",
   "metadata": {},
   "source": [
    "In this notebook, we will extract new features (related to demographic data) from the zipcode of the listing. Specifically, this notebook extracts demographic dat within a 5-mile radius of the listing zipcode.\n",
    "\n",
    "**Note**\n",
    "1. The 5-mile radius surrounding each zipcode might result in overlap with eachother, resulting in demographic data being counted twice. As a result, although these features are generated, they will not be used in subsequent analysis. Future work may explore this by (for example) retrieving demographic data based on the geographic region, within each city, that contains the listing's zipcode."
   ]
  },
  {
   "cell_type": "markdown",
   "metadata": {},
   "source": [
    "<a id=\"user-inputs\"></a>\n",
    "\n",
    "## 1. [User Inputs](#user-inputs)"
   ]
  },
  {
   "cell_type": "code",
   "execution_count": null,
   "metadata": {},
   "outputs": [],
   "source": [
    "prices_filepath = Path().cwd() / \"data\" / \"processed_data__AUS29_SEA22_2SEAzipcodes_20200605_144009.csv\"\n",
    "merged_filepath = Path().cwd() / \"data\" / \"processed_data__AUS29_SEA22_2SEAzipcodes_20200605_144009__with_demographics.csv\""
   ]
  },
  {
   "cell_type": "markdown",
   "metadata": {},
   "source": [
    "<a id=\"load-prices\"></a>\n",
    "\n",
    "## 2. [Load Prices](#load-prices)"
   ]
  },
  {
   "cell_type": "markdown",
   "metadata": {},
   "source": [
    "We'll start by loading the cars prices data into a `DataFrame`"
   ]
  },
  {
   "cell_type": "code",
   "execution_count": null,
   "metadata": {},
   "outputs": [],
   "source": [
    "df = pd.read_csv(prices_filepath)"
   ]
  },
  {
   "cell_type": "markdown",
   "metadata": {},
   "source": [
    "<a id=\"get-demographic-data\"></a>\n",
    "\n",
    "## 3. [Get demographic data](#get-demographic-data)"
   ]
  },
  {
   "cell_type": "code",
   "execution_count": null,
   "metadata": {},
   "outputs": [],
   "source": [
    "search = SearchEngine(simple_zipcode=True)"
   ]
  },
  {
   "cell_type": "markdown",
   "metadata": {},
   "source": [
    "First, we'll assemble a dictionary mapping the zipcode to a latitude and longitude (`LAT` and `LONG`)"
   ]
  },
  {
   "cell_type": "code",
   "execution_count": null,
   "metadata": {},
   "outputs": [],
   "source": [
    "zips_list = df['seller_zip'].str.extract(r'(\\d{5})')[0].value_counts().index.tolist()"
   ]
  },
  {
   "cell_type": "code",
   "execution_count": null,
   "metadata": {},
   "outputs": [],
   "source": [
    "zips_wanted = {z: [search.by_zipcode(int(z)).lat, search.by_zipcode(int(z)).lng] for z in zips_list}\n",
    "df_zips = pd.DataFrame.from_dict(zips_wanted, orient=\"index\", columns=[\"LAT\", \"LONG\"]).reset_index()\n",
    "df_zips = df_zips.rename(columns={\"index\": \"zipcode\"})\n",
    "df_zips"
   ]
  },
  {
   "cell_type": "markdown",
   "metadata": {},
   "source": [
    "Next, we'll use the `LAT` and `LONG` columns to get demographic data within a 5 mile radius"
   ]
  },
  {
   "cell_type": "code",
   "execution_count": null,
   "metadata": {},
   "outputs": [],
   "source": [
    "def get_median_household_value(row):\n",
    "    result = search.by_coordinates(row[\"LAT\"], row[\"LONG\"], radius=5, returns=100)\n",
    "    home_value = np.mean([r.median_home_value if r.median_home_value is not None else 0 for r in result])\n",
    "    return home_value\n",
    "\n",
    "def get_median_household_income(row):\n",
    "    result = search.by_coordinates(row[\"LAT\"], row[\"LONG\"], radius=5, returns=100)\n",
    "    home_income = np.mean([r.median_household_income if r.median_household_income is not None else 0 for r in result])\n",
    "    return home_income"
   ]
  },
  {
   "cell_type": "code",
   "execution_count": null,
   "metadata": {},
   "outputs": [],
   "source": [
    "df_zips[\"median_household_value\"] = df_zips.apply(get_median_household_value, axis=1)\n",
    "df_zips[\"median_household_income\"] = df_zips.apply(get_median_household_income, axis=1)\n",
    "df_zips"
   ]
  },
  {
   "cell_type": "markdown",
   "metadata": {},
   "source": [
    "<a id=\"merge\"></a>\n",
    "\n",
    "## 4. [Merge](#merge)"
   ]
  },
  {
   "cell_type": "markdown",
   "metadata": {},
   "source": [
    "Join car listings data with the demographic data on zipcodes"
   ]
  },
  {
   "cell_type": "markdown",
   "metadata": {},
   "source": [
    "Having extracted demographic data, we can now merge this `DataFrame` with the the data of the scraped car price listings"
   ]
  },
  {
   "cell_type": "code",
   "execution_count": null,
   "metadata": {},
   "outputs": [],
   "source": [
    "df_f = df.merge(df_zips, left_on=[\"seller_zip\"], right_on=\"zipcode\", how=\"inner\")"
   ]
  },
  {
   "cell_type": "markdown",
   "metadata": {},
   "source": [
    "This is the final dataframe we'll use for feature engineering, EDA and assessing model."
   ]
  },
  {
   "cell_type": "markdown",
   "metadata": {},
   "source": [
    "<a id=\"export-merged-data\"></a>\n",
    "\n",
    "## 5. [Export merged data](#export-merged-data)"
   ]
  },
  {
   "cell_type": "code",
   "execution_count": null,
   "metadata": {},
   "outputs": [],
   "source": [
    "df_f.to_csv(merged_filepath, index=False)"
   ]
  }
 ],
 "metadata": {
  "kernelspec": {
   "display_name": "Python 3",
   "language": "python",
   "name": "python3"
  },
  "language_info": {
   "codemirror_mode": {
    "name": "ipython",
    "version": 3
   },
   "file_extension": ".py",
   "mimetype": "text/x-python",
   "name": "python",
   "nbconvert_exporter": "python",
   "pygments_lexer": "ipython3",
   "version": "3.7.3"
  }
 },
 "nbformat": 4,
 "nbformat_minor": 4
}

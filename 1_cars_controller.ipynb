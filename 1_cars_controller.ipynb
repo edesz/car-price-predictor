{
 "cells": [
  {
   "cell_type": "markdown",
   "metadata": {},
   "source": [
    "# [Get car listing IDs](#get-car-listing-ids)"
   ]
  },
  {
   "cell_type": "markdown",
   "metadata": {},
   "source": [
    "<font color='red' size=\"5\">**Important Note**</font>\n",
    "- this notebook does **not** support Cell > Run All\n",
    "- please run cells manually and wait for the preceding page to load before executing the second last cell of section 2."
   ]
  },
  {
   "cell_type": "code",
   "execution_count": null,
   "metadata": {},
   "outputs": [],
   "source": [
    "%load_ext lab_black\n",
    "%load_ext autoreload\n",
    "%autoreload 2"
   ]
  },
  {
   "cell_type": "code",
   "execution_count": null,
   "metadata": {},
   "outputs": [],
   "source": [
    "from pathlib import Path\n",
    "from random import randint\n",
    "from time import time, sleep, strftime\n",
    "\n",
    "import requests\n",
    "from bs4 import BeautifulSoup\n",
    "from selenium import webdriver\n",
    "from selenium.webdriver.common.action_chains import ActionChains\n",
    "from selenium.webdriver.chrome.options import Options\n",
    "from selenium.webdriver.common.keys import Keys\n",
    "from selenium.common.exceptions import TimeoutException\n",
    "from selenium.webdriver.support import expected_conditions as EC\n",
    "from selenium.webdriver.support.ui import WebDriverWait"
   ]
  },
  {
   "cell_type": "code",
   "execution_count": null,
   "metadata": {},
   "outputs": [],
   "source": [
    "options = Options()\n",
    "options.add_argument(\"--headless\") # Runs Chrome in headless mode.\n",
    "options.add_argument('--no-sandbox') # Bypass OS security model\n",
    "options.add_argument('--disable-gpu')  # applicable to windows os only\n",
    "options.add_argument('start-maximized') # \n",
    "options.add_argument('disable-infobars')\n",
    "options.add_argument(\"--disable-extensions\")"
   ]
  },
  {
   "cell_type": "markdown",
   "metadata": {},
   "source": [
    "<a id=\"toc\"></a>\n",
    "\n",
    "## [Table of Contents](#table-of-contents)\n",
    "0. [About](#about)\n",
    "1. [Make User Inputs on `cars.com`](#make-user-inputs-on-cars.com)\n",
    "2. [Make search selections on home page](#make-search-selections-on-home-page)\n",
    "3. [Retrieve listing `id`s from search results page](#retrieve-listing-ids-from-search-results-page)\n",
    "4. [Close browser](#close-browser)"
   ]
  },
  {
   "cell_type": "markdown",
   "metadata": {},
   "source": [
    "<a id=\"about\"></a>\n",
    "\n",
    "## 0. [About](#about)"
   ]
  },
  {
   "cell_type": "markdown",
   "metadata": {},
   "source": [
    "As mentioned in the `README.md` file, we're looking for new car listings in Austin, TX and SEA, WA on a budget of $45,000.\n",
    "\n",
    "In this notebook, we will scrape car listing IDs from the `cars.com` homepage. We will programmatically apply filters based on our preferences for the listings (eg. zipcode, maximum price wanted, type of car and Make of the car)."
   ]
  },
  {
   "cell_type": "markdown",
   "metadata": {},
   "source": [
    "<a id=\"make-user-inputs-on-cars.com\"></a>\n",
    "\n",
    "## 1. [Make User Inputs on `cars.com`](#make-user-inputs-on-cars.com)"
   ]
  },
  {
   "cell_type": "markdown",
   "metadata": {},
   "source": [
    "We'll define one input variable as the zipcode required, in string format"
   ]
  },
  {
   "cell_type": "code",
   "execution_count": null,
   "metadata": {
    "tags": [
     "parameters"
    ]
   },
   "outputs": [],
   "source": [
    "zipcode_wanted = \"98052\"  # AUS: \"78745\", SEA: \"99208\", \"98052\""
   ]
  },
  {
   "cell_type": "markdown",
   "metadata": {},
   "source": [
    "Some other inputs we'll define below should not be modified by the user"
   ]
  },
  {
   "cell_type": "code",
   "execution_count": null,
   "metadata": {},
   "outputs": [],
   "source": [
    "# Relative path to Chrome driver\n",
    "chromedriver = \"./chromedriver\"\n",
    "\n",
    "# Main webpage from which to apply search filters\n",
    "web_url = \"https://www.cars.com/\"\n",
    "\n",
    "# Number of pages of listings to return - this was manually determined by visiting cars.com and entering the above-mentioned filters\n",
    "num_pages_of_results = 30  # AUS: 30, SEA: 11\n",
    "\n",
    "# Relative path to file where filtered listing IDs should be stored\n",
    "ids_filename = f\"data/Listings_IDs_{strftime('%Y%m%d')}.txt\""
   ]
  },
  {
   "cell_type": "markdown",
   "metadata": {},
   "source": [
    "<a id=\"make-search-selections-on-home-page\"></a>\n",
    "\n",
    "## 2. [Make search selections on home page](#make-search-selections-on-home-page)"
   ]
  },
  {
   "cell_type": "markdown",
   "metadata": {},
   "source": [
    "To preform scraping, we'll first download the [Chrome `webdriver`](https://chromedriver.chromium.org/downloads)"
   ]
  },
  {
   "cell_type": "code",
   "execution_count": null,
   "metadata": {},
   "outputs": [],
   "source": [
    "!wget https://chromedriver.storage.googleapis.com/77.0.3865.40/chromedriver_linux64.zip -O chromedriver_linux64.zip"
   ]
  },
  {
   "cell_type": "code",
   "execution_count": null,
   "metadata": {},
   "outputs": [],
   "source": [
    "!unzip chromedriver_linux64.zip && rm -f chromedriver_linux64.zip"
   ]
  },
  {
   "cell_type": "markdown",
   "metadata": {},
   "source": [
    "Next, we'll instantiate the Chrome webdriver"
   ]
  },
  {
   "cell_type": "code",
   "execution_count": null,
   "metadata": {},
   "outputs": [],
   "source": [
    "driver = webdriver.Chrome(options=options, executable_path=str(chromedriver))"
   ]
  },
  {
   "cell_type": "markdown",
   "metadata": {},
   "source": [
    "Next, we'll load the `cars.com` homepage"
   ]
  },
  {
   "cell_type": "code",
   "execution_count": null,
   "metadata": {},
   "outputs": [],
   "source": [
    "driver.get(web_url)"
   ]
  },
  {
   "cell_type": "markdown",
   "metadata": {},
   "source": [
    "From the drop-down menus and text input box, we will make specifications for\n",
    "- type of car (click on required item in dropdown menu)\n",
    "  - this should be a new car so select \"New\"\n",
    "- Make (click on required item in dropdown menu)\n",
    "  - we want all makes so select All Makes\n",
    "- maximum acceptable price (click on required item in dropdown menu)\n",
    "  - our budget is \\$45,000, so make this selection\n",
    "- zip code (enter text into user input box)\n",
    "  - enter required zipcode and press RETURN to move to the next page of search results"
   ]
  },
  {
   "cell_type": "code",
   "execution_count": null,
   "metadata": {},
   "outputs": [],
   "source": [
    "# select type of car wanted (New)\n",
    "driver.find_element_by_xpath(\"//select[@name='stockType']/option[text()='New Cars']\").click()\n",
    "\n",
    "# select make wanted\n",
    "driver.find_element_by_xpath(\"//select[@name='makeId']/option[text()='All Makes']\").click()\n",
    "\n",
    "# select max price wanted\n",
    "driver.find_element_by_xpath(\"//select[@name='priceMax']/option[text()='$45,000']\").click()"
   ]
  },
  {
   "cell_type": "markdown",
   "metadata": {},
   "source": [
    "In order to specify the required zipcode, we will first clear the existing entry in the text box"
   ]
  },
  {
   "cell_type": "code",
   "execution_count": null,
   "metadata": {},
   "outputs": [],
   "source": [
    "# enter zipcode and press the RETURN key to submit the form\n",
    "zip_elem = driver.find_element_by_xpath(\"//input[@name='zip']\")\n",
    "zip_elem.send_keys(Keys.CONTROL + \"a\");\n",
    "zip_elem.send_keys(Keys.DELETE);"
   ]
  },
  {
   "cell_type": "markdown",
   "metadata": {},
   "source": [
    "Next, we will enter the required zipcode and press `RETURN`"
   ]
  },
  {
   "cell_type": "code",
   "execution_count": null,
   "metadata": {},
   "outputs": [],
   "source": [
    "zip_elem.send_keys(zipcode_wanted)\n",
    "zip_elem.send_keys(Keys.RETURN)"
   ]
  },
  {
   "cell_type": "markdown",
   "metadata": {},
   "source": [
    "From the page of search listings, select \"100 Per Page\" in order to display 100 search result listings\n",
    "- we will make this selection in order to reduce the number of pages of search results that must be navigated\n",
    "- **NOTE about using Cell > Run All**\n",
    "  - please wait for the page of search results (from the above cell) to fully load before executing the cell below this line\n",
    "    - reason: the option to increase the number of viewable listings to the maximum value of 100 is not available until the search results have fully loaded"
   ]
  },
  {
   "cell_type": "code",
   "execution_count": null,
   "metadata": {},
   "outputs": [],
   "source": [
    "# Specify that 100 results should be shown per page\n",
    "driver.find_element_by_xpath(\n",
    "    \"//select[@class='ng-pristine ng-untouched ng-valid ng-not-empty']/option[text()='100 Per Page']\"\n",
    ").click()"
   ]
  },
  {
   "cell_type": "markdown",
   "metadata": {},
   "source": [
    "<a id=\"retrieve-listing-ids-from-search-results-page\"></a>\n",
    "\n",
    "## 3. [Retrieve listing `id`s from search results page](#retrieve-listing-ids-from-search-results-page)"
   ]
  },
  {
   "cell_type": "markdown",
   "metadata": {},
   "source": [
    "Next, on each page of listing results, we'll do the following\n",
    "1. get the `bs4` soup\n",
    "2. Use a helper function to extract listing `id`, which will be used later to assemble a url for a single listing\n",
    "   - this `id` will be used to assemble the web url of each listing\n",
    "3. append a list of 100 listing `id`s per page to a text file, such that a single line of the text file will contain all listing `id`s for a single page of search results\n",
    "   - since we specified that 100 results should be shown per page, this text file will consist of rows of 100 listing IDs\n",
    "4. pause for a random amount of time\n",
    "5. scroll to bottom of page\n",
    "6. pause for a random amount of time\n",
    "7. click `Next` button to navigate to next page\n",
    "8. wait for 5 seconds, for the page URL to be updated to that of the next page"
   ]
  },
  {
   "cell_type": "code",
   "execution_count": null,
   "metadata": {},
   "outputs": [],
   "source": [
    "def get_all_ids_from_search_results_soup(soup):\n",
    "    \"\"\"\n",
    "    Get list with id for each search result listing\n",
    "    \"\"\"\n",
    "    id_checkboxes_elements = soup.find_all(\"input\", {\"class\": \"checkbox__input\"})\n",
    "    \n",
    "    ids_per_page = []\n",
    "    for k, c in enumerate(id_checkboxes_elements):\n",
    "        if \"-compare\" in c[\"id\"]:\n",
    "            listing_id = c[\"id\"].replace(\"-compare\", \"\")\n",
    "            # print(f\"Listing: {k+1}, ID: {listing_id}\")\n",
    "            ids_per_page.append(listing_id)\n",
    "    return ids_per_page"
   ]
  },
  {
   "cell_type": "code",
   "execution_count": null,
   "metadata": {},
   "outputs": [],
   "source": [
    "def pause_code(min_time, max_time, delay_msg):\n",
    "    \"\"\"Wait for a random amount of time before proceeding\"\"\"\n",
    "    # Pause\n",
    "    delay_time = randint(min_time, max_time)\n",
    "    print(delay_msg)\n",
    "    sleep(delay_time)    "
   ]
  },
  {
   "cell_type": "markdown",
   "metadata": {},
   "source": [
    "Now, we can loop over the pre-defined required number of pages and perform above actions on each page"
   ]
  },
  {
   "cell_type": "code",
   "execution_count": null,
   "metadata": {},
   "outputs": [],
   "source": [
    "ids = []\n",
    "for page in range(1, num_pages_of_results+1):  \n",
    "    # 1. Get the bs4 soup from each page of listings for serach results\n",
    "    soup_contents = BeautifulSoup(driver.page_source, 'html.parser')\n",
    "    # r = requests.get(driver.current_url)\n",
    "    # soup_contents = BeautifulSoup(r.text, 'html.parser')\n",
    "    # print(soup_contents.prettify())\n",
    "\n",
    "    # 2. Get list of listing IDs from page\n",
    "    list_of_ids_per_page = get_all_ids_from_search_results_soup(soup_contents)\n",
    "    print(f\"Found {len(list_of_ids_per_page)} listings\")\n",
    "    ids.append(list_of_ids_per_page)\n",
    "\n",
    "    # 3. Write list of string IDs to file\n",
    "    list_of_ids_as_string = \", \".join(list_of_ids_per_page) + \"\\n\"\n",
    "    with open(ids_filename, 'a') as f:\n",
    "        f.write(list_of_ids_as_string)\n",
    "\n",
    "    # print current url\n",
    "    current_url = driver.current_url\n",
    "    print(f\"Current URL: {current_url}\")\n",
    "\n",
    "    # If the next page number is less than the maximum required number\n",
    "    # of pages of search results, the nnavigate to the next page\n",
    "    if page+1 <= num_pages_of_results:        \n",
    "        # 4. Pause\n",
    "        pause_code(\n",
    "            min_time=3,\n",
    "            max_time=7,\n",
    "            delay_msg=f\"Pausing before scrolling to bottom of page {page}\",\n",
    "        )\n",
    "\n",
    "        # 5. Scroll to bottom of page, so that Next button is enabled and can be clicked\n",
    "        driver.execute_script(\"window.scrollTo(0, document.body.scrollHeight);\")\n",
    "        print(f\"Reached to the bottom of the page {page}\")\n",
    "\n",
    "        # 6. Pause\n",
    "        pause_code(\n",
    "            min_time=2,\n",
    "            max_time=9,\n",
    "            delay_msg=f\"Pausing before navigating to next page\",\n",
    "        )\n",
    "\n",
    "        # 7. Click Next button to navigate to next page\n",
    "        driver.find_element_by_xpath(\"//a[@class='button next-page']\").click()\n",
    "        print(f\"Displaying page {page + 1}\\n\")\n",
    "\n",
    "        # 8. wait for URL to change with 5 seconds timeout\n",
    "        try:\n",
    "            WebDriverWait(driver, 5).until(EC.url_changes(current_url))\n",
    "\n",
    "            # print new URL\n",
    "            new_url = driver.current_url\n",
    "        except TimeoutException as e:\n",
    "            print(\n",
    "                f\"When accessing page {page + 1}, stopped due to error message: \"\n",
    "                f\"{str(e)}\"\n",
    "            )\n",
    "            break\n",
    "    else:\n",
    "        print(f\"Reached last requested page ({page}) of listings. Stopping here.\")"
   ]
  },
  {
   "cell_type": "markdown",
   "metadata": {},
   "source": [
    "Next, we will display a breif summary of the number of listing IDs found per city"
   ]
  },
  {
   "cell_type": "code",
   "execution_count": null,
   "metadata": {},
   "outputs": [],
   "source": [
    "print(\n",
    "    \"Contents of file containing scraped listing IDs\\n\"\n",
    "    \"===============================================\"\n",
    ")\n",
    "with open(ids_filename) as f:\n",
    "    lines = f.readlines()\n",
    "    for page_num, element in enumerate(lines):\n",
    "        id_list = element.split(\", \")\n",
    "        city = \"AUS\" if page_num + 1 <= 15 else \"SEA\"\n",
    "        print(\n",
    "            f\"Page: {page_num + 1}, \"\n",
    "            f\"City: {city}, \"\n",
    "            f\"Number of listings on page: {len(id_list)}\"\n",
    "        )"
   ]
  },
  {
   "cell_type": "markdown",
   "metadata": {},
   "source": [
    "<a id=\"close-browser\"></a>\n",
    "\n",
    "## 4. [Close browser](#close-browser)"
   ]
  },
  {
   "cell_type": "markdown",
   "metadata": {},
   "source": [
    "Finally, we'll close all web browser windows"
   ]
  },
  {
   "cell_type": "code",
   "execution_count": null,
   "metadata": {},
   "outputs": [],
   "source": [
    "# driver.close()  # closes active browser window\n",
    "driver.quit()  # closes all browser windows"
   ]
  }
 ],
 "metadata": {
  "kernelspec": {
   "display_name": "Python 3",
   "language": "python",
   "name": "python3"
  },
  "language_info": {
   "codemirror_mode": {
    "name": "ipython",
    "version": 3
   },
   "file_extension": ".py",
   "mimetype": "text/x-python",
   "name": "python",
   "nbconvert_exporter": "python",
   "pygments_lexer": "ipython3",
   "version": "3.7.3"
  }
 },
 "nbformat": 4,
 "nbformat_minor": 4
}
